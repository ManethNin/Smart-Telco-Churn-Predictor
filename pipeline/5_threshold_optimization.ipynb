{
 "cells": [
  {
   "cell_type": "code",
   "execution_count": 82,
   "id": "aabf8593",
   "metadata": {},
   "outputs": [],
   "source": [
    "import joblib\n",
    "import numpy as np\n",
    "from sklearn.metrics import confusion_matrix\n",
    "import joblib\n",
    "import warnings\n",
    "import numpy as np\n",
    "import pandas as pd\n",
    "import seaborn as sns\n",
    "import matplotlib.pyplot as plt\n",
    "from sklearn.metrics import confusion_matrix\n",
    "warnings.filterwarnings('ignore')\n",
    "from xgboost import XGBClassifier\n",
    "from catboost import CatBoostClassifier\n",
    "\n"
   ]
  },
  {
   "cell_type": "code",
   "execution_count": 83,
   "id": "7c297599",
   "metadata": {},
   "outputs": [],
   "source": [
    "X_train = np.load(\"../artifacts/X_train_resampled.npz\", allow_pickle=True)['arr_0']\n",
    "Y_train = np.load(\"../artifacts/Y_train_resampled.npz\", allow_pickle=True)['arr_0']\n",
    "X_test = np.load('../artifacts/X_test.npz', allow_pickle=True)['arr_0']\n",
    "Y_test = np.load('../artifacts/Y_test.npz', allow_pickle=True)['arr_0']\n",
    "best_model = joblib.load(\"../artifacts/best_model_catboost.pkl\")  # change name if different\n",
    "all_models = joblib.load(\"../artifacts/all_grid_search_results.pkl\")\n"
   ]
  },
  {
   "cell_type": "code",
   "execution_count": 84,
   "id": "9d13552f",
   "metadata": {},
   "outputs": [
    {
     "data": {
      "text/plain": [
       "0    1033\n",
       "1     374\n",
       "Name: count, dtype: int64"
      ]
     },
     "execution_count": 84,
     "metadata": {},
     "output_type": "execute_result"
    }
   ],
   "source": [
    "pd.Series(Y_test).value_counts()"
   ]
  },
  {
   "cell_type": "code",
   "execution_count": 85,
   "id": "00f18a91",
   "metadata": {},
   "outputs": [],
   "source": [
    "models = ['Logistic Regression', 'Decision Tree','Random Forest','XGBoost','CatBoost']"
   ]
  },
  {
   "cell_type": "code",
   "execution_count": 86,
   "id": "5c561376",
   "metadata": {},
   "outputs": [],
   "source": [
    "model = all_models['Logistic Regression']"
   ]
  },
  {
   "cell_type": "code",
   "execution_count": 90,
   "id": "77f222a6",
   "metadata": {},
   "outputs": [
    {
     "data": {
      "image/png": "[encoded data removed]",
      "text/plain": [
       "<Figure size 640x480 with 1 Axes>"
      ]
     },
     "metadata": {},
     "output_type": "display_data"
    }
   ],
   "source": [
    "Y_proba_test = model.predict_proba(X_test)\n",
    "Y_lr_test =  Y_proba_test[:, 1]\n",
    "\n",
    "plt.hist(Y_lr_test, bins=50)\n",
    "plt.xlabel('Probability')\n",
    "plt.ylabel('Count')\n",
    "plt.grid(True)\n",
    "plt.show()"
   ]
  },
  {
   "cell_type": "code",
   "execution_count": 88,
   "id": "de08da67",
   "metadata": {},
   "outputs": [
    {
     "name": "stdout",
     "output_type": "stream",
     "text": [
      "\n",
      "Threshold Impact Analysis: LogisticRegression(max_iter=1000)\n",
      "Threshold | Precision | Recall | F1-Score\n",
      "-----------------------------------------------------------------\n",
      "  0.1     |   0.386   |  0.944  |  0.548\n",
      "  0.2     |   0.440   |  0.888  |  0.589\n",
      "  0.3     |   0.472   |  0.824  |  0.600\n",
      "  0.4     |   0.517   |  0.757  |  0.615\n",
      "  0.5     |   0.552   |  0.642  |  0.593\n",
      "  0.6     |   0.617   |  0.529  |  0.570\n",
      "  0.7     |   0.656   |  0.366  |  0.470\n",
      "  0.8     |   0.776   |  0.259  |  0.389\n",
      "  0.9     |   0.765   |  0.035  |  0.066\n",
      "\n",
      "Threshold Impact Analysis: DecisionTreeClassifier(criterion='log_loss', max_depth=12)\n",
      "Threshold | Precision | Recall | F1-Score\n",
      "-----------------------------------------------------------------\n",
      "  0.1     |   0.438   |  0.805  |  0.567\n",
      "  0.2     |   0.456   |  0.781  |  0.576\n",
      "  0.3     |   0.467   |  0.749  |  0.575\n",
      "  0.4     |   0.478   |  0.693  |  0.566\n",
      "  0.5     |   0.497   |  0.623  |  0.553\n",
      "  0.6     |   0.523   |  0.580  |  0.550\n",
      "  0.7     |   0.541   |  0.516  |  0.528\n",
      "  0.8     |   0.545   |  0.422  |  0.476\n",
      "  0.9     |   0.575   |  0.329  |  0.418\n",
      "\n",
      "Threshold Impact Analysis: RandomForestClassifier(max_depth=12, n_estimators=200)\n",
      "Threshold | Precision | Recall | F1-Score\n",
      "-----------------------------------------------------------------\n",
      "  0.1     |   0.362   |  0.960  |  0.526\n",
      "  0.2     |   0.413   |  0.909  |  0.568\n",
      "  0.3     |   0.460   |  0.845  |  0.596\n",
      "  0.4     |   0.497   |  0.749  |  0.598\n",
      "  0.5     |   0.540   |  0.652  |  0.591\n",
      "  0.6     |   0.568   |  0.548  |  0.558\n",
      "  0.7     |   0.623   |  0.428  |  0.507\n",
      "  0.8     |   0.705   |  0.281  |  0.402\n",
      "  0.9     |   0.846   |  0.118  |  0.207\n",
      "\n",
      "Threshold Impact Analysis: XGBClassifier(base_score=None, booster=None, callbacks=None,\n",
      "              colsample_bylevel=None, colsample_bynode=None,\n",
      "              colsample_bytree=None, device=None, early_stopping_rounds=None,\n",
      "              enable_categorical=False, eval_metric='logloss',\n",
      "              feature_types=None, feature_weights=None, gamma=None,\n",
      "              grow_policy=None, importance_type=None,\n",
      "              interaction_constraints=None, learning_rate=0.1, max_bin=None,\n",
      "              max_cat_threshold=None, max_cat_to_onehot=None,\n",
      "              max_delta_step=None, max_depth=10, max_leaves=None,\n",
      "              min_child_weight=None, missing=nan, monotone_constraints=None,\n",
      "              multi_strategy=None, n_estimators=100, n_jobs=None,\n",
      "              num_parallel_tree=None, ...)\n",
      "Threshold | Precision | Recall | F1-Score\n",
      "-----------------------------------------------------------------\n",
      "  0.1     |   0.425   |  0.896  |  0.577\n",
      "  0.2     |   0.452   |  0.797  |  0.576\n",
      "  0.3     |   0.489   |  0.730  |  0.586\n",
      "  0.4     |   0.521   |  0.644  |  0.576\n",
      "  0.5     |   0.561   |  0.580  |  0.570\n",
      "  0.6     |   0.609   |  0.500  |  0.549\n",
      "  0.7     |   0.626   |  0.412  |  0.497\n",
      "  0.8     |   0.682   |  0.310  |  0.426\n",
      "  0.9     |   0.719   |  0.171  |  0.276\n",
      "\n",
      "Threshold Impact Analysis: <catboost.core.CatBoostClassifier object at 0x30552a6d0>\n",
      "Threshold | Precision | Recall | F1-Score\n",
      "-----------------------------------------------------------------\n",
      "  0.1     |   0.421   |  0.898  |  0.573\n",
      "  0.2     |   0.460   |  0.818  |  0.589\n",
      "  0.3     |   0.485   |  0.741  |  0.586\n",
      "  0.4     |   0.512   |  0.652  |  0.573\n",
      "  0.5     |   0.562   |  0.586  |  0.573\n",
      "  0.6     |   0.605   |  0.508  |  0.552\n",
      "  0.7     |   0.662   |  0.398  |  0.497\n",
      "  0.8     |   0.714   |  0.254  |  0.375\n",
      "  0.9     |   0.781   |  0.134  |  0.228\n"
     ]
    }
   ],
   "source": [
    "for m in models:\n",
    "    model = all_models[m]\n",
    "    Y_proba_test = model.predict_proba(X_test)\n",
    "    Y_lr_test =  Y_proba_test[:, 1]\n",
    "\n",
    "    # cm = confusion_matrix(Y_test, Y_test_hat)\n",
    "\n",
    "    # fig, ax1 =  plt.subplots(1, 1, figsize = (4, 4))\n",
    "\n",
    "    # sns.heatmap(cm, annot=True, fmt='d', ax=ax1)\n",
    "    # ax1.set_title(f\"{model.best_estimator_}\")\n",
    "    # ax1.set_xlabel('Predicted')\n",
    "    # ax1.set_ylabel('Actual')\n",
    "\n",
    "    print(f\"\\nThreshold Impact Analysis: {model.best_estimator_}\")\n",
    "    print(\"Threshold | Precision | Recall | F1-Score\")\n",
    "    print(\"-\" * 65)\n",
    "    \n",
    "    for threshold in [0.1,0.2,0.3, 0.4, 0.5, 0.6, 0.7,0.8,0.9]:\n",
    "        y_pred_thresh = (Y_lr_test >= threshold).astype(int)\n",
    "        \n",
    "        from sklearn.metrics import precision_score, recall_score, f1_score\n",
    "        precision = precision_score(Y_test, y_pred_thresh)\n",
    "        recall = recall_score(Y_test, y_pred_thresh)\n",
    "        f1 = f1_score(Y_test, y_pred_thresh)\n",
    "        \n",
    "        \n",
    "        \n",
    "        print(f\"  {threshold:.1f}     |   {precision:.3f}   |  {recall:.3f}  |  {f1:.3f}\")\n"
   ]
  },
  {
   "cell_type": "code",
   "execution_count": 93,
   "id": "957fd7a3",
   "metadata": {},
   "outputs": [
    {
     "data": {
      "text/plain": [
       "Text(20.72222222222222, 0.5, 'Actual')"
      ]
     },
     "execution_count": 93,
     "metadata": {},
     "output_type": "execute_result"
    },
    {
     "data": {
      "image/png": "[encoded data removed]",
      "text/plain": [
       "<Figure size 400x400 with 2 Axes>"
      ]
     },
     "metadata": {},
     "output_type": "display_data"
    }
   ],
   "source": [
    "best_model = all_models['Logistic Regression']\n",
    "\n",
    "Y_proba_test = best_model.predict_proba(X_test)\n",
    "Y_lr_test =  Y_proba_test[:, 1]\n",
    "y_pred_thresh = (Y_lr_test >= 0.4).astype(int)\n",
    "\n",
    "\n",
    "cm = confusion_matrix(Y_test, y_pred_thresh)\n",
    "\n",
    "fig, ax1 =  plt.subplots(1, 1, figsize = (4, 4))\n",
    "\n",
    "sns.heatmap(cm, annot=True, fmt='d', ax=ax1)\n",
    "ax1.set_title(f\"{best_model.best_estimator_}\")\n",
    "ax1.set_xlabel('Predicted')\n",
    "ax1.set_ylabel('Actual')"
   ]
  },
  {
   "cell_type": "code",
   "execution_count": null,
   "id": "0faf476c",
   "metadata": {},
   "outputs": [],
   "source": []
  }
 ],
 "metadata": {
  "kernelspec": {
   "display_name": "prodML",
   "language": "python",
   "name": "python3"
  },
  "language_info": {
   "codemirror_mode": {
    "name": "ipython",
    "version": 3
   },
   "file_extension": ".py",
   "mimetype": "text/x-python",
   "name": "python",
   "nbconvert_exporter": "python",
   "pygments_lexer": "ipython3",
   "version": "3.11.13"
  }
 },
 "nbformat": 4,
 "nbformat_minor": 5
}
